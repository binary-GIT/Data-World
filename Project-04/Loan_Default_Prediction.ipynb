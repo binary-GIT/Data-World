{
  "metadata": {
    "kernelspec": {
      "language": "python",
      "display_name": "Python 3",
      "name": "python3"
    },
    "language_info": {
      "name": "python",
      "version": "3.10.14",
      "mimetype": "text/x-python",
      "codemirror_mode": {
        "name": "ipython",
        "version": 3
      },
      "pygments_lexer": "ipython3",
      "nbconvert_exporter": "python",
      "file_extension": ".py"
    },
    "kaggle": {
      "accelerator": "nvidiaTeslaT4",
      "dataSources": [
        {
          "sourceId": 370089,
          "sourceType": "datasetVersion",
          "datasetId": 902
        }
      ],
      "dockerImageVersionId": 30787,
      "isInternetEnabled": true,
      "language": "python",
      "sourceType": "notebook",
      "isGpuEnabled": true
    },
    "colab": {
      "provenance": []
    }
  },
  "nbformat_minor": 0,
  "nbformat": 4,
  "cells": [
    {
      "source": [
        "\n",
        "import kagglehub\n",
        "wordsforthewise_lending_club_path = kagglehub.dataset_download('wordsforthewise/lending-club')\n",
        "\n",
        "print('Data source import complete.')\n"
      ],
      "metadata": {
        "id": "jt-RhZGzMDjo"
      },
      "cell_type": "code",
      "outputs": [],
      "execution_count": null
    },
    {
      "cell_type": "markdown",
      "source": [
        "# Project: Build a machine learning model to predict the likelihood of loan default based on applicant details and credit history."
      ],
      "metadata": {
        "id": "sjeMt7FgMDjq"
      }
    },
    {
      "cell_type": "code",
      "source": [
        "\n",
        "\n",
        "import numpy as np # linear algebra\n",
        "import pandas as pd # data processing, CSV file I/O (e.g. pd.read_csv)\n",
        "\n",
        "import os\n",
        "for dirname, _, filenames in os.walk('/kaggle/input'):\n",
        "    for filename in filenames:\n",
        "        print(os.path.join(dirname, filename))\n"
      ],
      "metadata": {
        "_uuid": "8f2839f25d086af736a60e9eeb907d3b93b6e0e5",
        "_cell_guid": "b1076dfc-b9ad-4769-8c92-a6c4dae69d19",
        "execution": {
          "iopub.status.busy": "2024-11-01T12:04:02.341054Z",
          "iopub.execute_input": "2024-11-01T12:04:02.341953Z",
          "iopub.status.idle": "2024-11-01T12:04:03.714428Z",
          "shell.execute_reply.started": "2024-11-01T12:04:02.341899Z",
          "shell.execute_reply": "2024-11-01T12:04:03.71343Z"
        },
        "trusted": true,
        "id": "NGLS3M_6MDjt"
      },
      "execution_count": null,
      "outputs": []
    },
    {
      "cell_type": "markdown",
      "source": [
        "# Import Libraries"
      ],
      "metadata": {
        "id": "clLXS3rRMDju"
      }
    },
    {
      "cell_type": "code",
      "source": [
        "import tensorflow as tf\n",
        "import numpy as np\n",
        "import matplotlib.pyplot as plt\n",
        "import pandas as pd"
      ],
      "metadata": {
        "execution": {
          "iopub.status.busy": "2024-11-01T12:04:03.71653Z",
          "iopub.execute_input": "2024-11-01T12:04:03.717347Z",
          "iopub.status.idle": "2024-11-01T12:04:13.272835Z",
          "shell.execute_reply.started": "2024-11-01T12:04:03.717299Z",
          "shell.execute_reply": "2024-11-01T12:04:13.271983Z"
        },
        "trusted": true,
        "id": "dZYIw-2gMDjv"
      },
      "execution_count": null,
      "outputs": []
    },
    {
      "cell_type": "markdown",
      "source": [
        "## Exploring Accepted Dataset"
      ],
      "metadata": {
        "id": "MgbXFtUcMDjw"
      }
    },
    {
      "cell_type": "code",
      "source": [
        "accepted=pd.read_csv('/kaggle/input/lending-club/accepted_2007_to_2018q4.csv/accepted_2007_to_2018Q4.csv')\n",
        "accepted"
      ],
      "metadata": {
        "execution": {
          "iopub.status.busy": "2024-11-01T12:04:13.273899Z",
          "iopub.execute_input": "2024-11-01T12:04:13.274463Z",
          "iopub.status.idle": "2024-11-01T12:05:17.014278Z",
          "shell.execute_reply.started": "2024-11-01T12:04:13.274427Z",
          "shell.execute_reply": "2024-11-01T12:05:17.013432Z"
        },
        "trusted": true,
        "id": "RtCvMFAeMDjx"
      },
      "execution_count": null,
      "outputs": []
    },
    {
      "cell_type": "code",
      "source": [
        "accepted.info()"
      ],
      "metadata": {
        "execution": {
          "iopub.status.busy": "2024-11-01T12:05:17.017305Z",
          "iopub.execute_input": "2024-11-01T12:05:17.017945Z",
          "iopub.status.idle": "2024-11-01T12:05:17.052383Z",
          "shell.execute_reply.started": "2024-11-01T12:05:17.017904Z",
          "shell.execute_reply": "2024-11-01T12:05:17.05122Z"
        },
        "trusted": true,
        "id": "i26RGlChMDjy"
      },
      "execution_count": null,
      "outputs": []
    },
    {
      "cell_type": "code",
      "source": [
        "for feature in accepted.columns:\n",
        "    print(feature)"
      ],
      "metadata": {
        "execution": {
          "iopub.status.busy": "2024-11-01T12:05:17.054195Z",
          "iopub.execute_input": "2024-11-01T12:05:17.054934Z",
          "iopub.status.idle": "2024-11-01T12:05:17.0663Z",
          "shell.execute_reply.started": "2024-11-01T12:05:17.054886Z",
          "shell.execute_reply": "2024-11-01T12:05:17.065144Z"
        },
        "trusted": true,
        "id": "eVA10KgkMDjz"
      },
      "execution_count": null,
      "outputs": []
    },
    {
      "cell_type": "code",
      "source": [
        "miss=accepted.isna().sum()\n",
        "missing_entries_sorted = miss.sort_values(ascending=False)\n",
        "print(missing_entries_sorted)"
      ],
      "metadata": {
        "execution": {
          "iopub.status.busy": "2024-11-01T12:05:17.068009Z",
          "iopub.execute_input": "2024-11-01T12:05:17.068415Z",
          "iopub.status.idle": "2024-11-01T12:05:23.574399Z",
          "shell.execute_reply.started": "2024-11-01T12:05:17.068382Z",
          "shell.execute_reply": "2024-11-01T12:05:23.573375Z"
        },
        "trusted": true,
        "id": "rCsE1-l4MDjz"
      },
      "execution_count": null,
      "outputs": []
    },
    {
      "cell_type": "code",
      "source": [
        "lower=1130351\n",
        "high=2260701\n",
        "\n",
        "missing_num=accepted.isnull().sum()\n",
        "\n",
        "features_to_drop=missing_num[(missing_num>=lower)& (missing_num<=high)].index\n",
        "accepted=accepted.drop(columns=features_to_drop)\n",
        "\n",
        "print(\"Dropped Features:\" , features_to_drop)"
      ],
      "metadata": {
        "execution": {
          "iopub.status.busy": "2024-11-01T12:05:23.575887Z",
          "iopub.execute_input": "2024-11-01T12:05:23.576693Z",
          "iopub.status.idle": "2024-11-01T12:05:31.193068Z",
          "shell.execute_reply.started": "2024-11-01T12:05:23.57664Z",
          "shell.execute_reply": "2024-11-01T12:05:31.191992Z"
        },
        "trusted": true,
        "id": "UtWpE_EsMDj0"
      },
      "execution_count": null,
      "outputs": []
    },
    {
      "cell_type": "code",
      "source": [
        "accepted"
      ],
      "metadata": {
        "execution": {
          "iopub.status.busy": "2024-11-01T12:05:31.194631Z",
          "iopub.execute_input": "2024-11-01T12:05:31.195048Z",
          "iopub.status.idle": "2024-11-01T12:05:32.435604Z",
          "shell.execute_reply.started": "2024-11-01T12:05:31.195002Z",
          "shell.execute_reply": "2024-11-01T12:05:32.434613Z"
        },
        "trusted": true,
        "id": "0fUyRaMpMDj0"
      },
      "execution_count": null,
      "outputs": []
    },
    {
      "cell_type": "code",
      "source": [
        "threshold=accepted.shape[1]*0.7\n",
        "\n",
        "accepted=accepted.dropna(thresh=threshold)\n",
        "\n",
        "print(\"Data after dropping rows with more than 70% missing values:\")\n",
        "accepted"
      ],
      "metadata": {
        "execution": {
          "iopub.status.busy": "2024-11-01T12:05:32.437201Z",
          "iopub.execute_input": "2024-11-01T12:05:32.437648Z",
          "iopub.status.idle": "2024-11-01T12:05:40.793817Z",
          "shell.execute_reply.started": "2024-11-01T12:05:32.4376Z",
          "shell.execute_reply": "2024-11-01T12:05:40.792854Z"
        },
        "trusted": true,
        "id": "5hxmaLpIMDj1"
      },
      "execution_count": null,
      "outputs": []
    },
    {
      "cell_type": "code",
      "source": [
        "for features in accepted.isna().sum():\n",
        "    print(features)"
      ],
      "metadata": {
        "execution": {
          "iopub.status.busy": "2024-11-01T12:05:40.798279Z",
          "iopub.execute_input": "2024-11-01T12:05:40.798585Z",
          "iopub.status.idle": "2024-11-01T12:05:45.847898Z",
          "shell.execute_reply.started": "2024-11-01T12:05:40.798555Z",
          "shell.execute_reply": "2024-11-01T12:05:45.846882Z"
        },
        "trusted": true,
        "id": "cmWRR72dMDj1"
      },
      "execution_count": null,
      "outputs": []
    },
    {
      "cell_type": "code",
      "source": [
        "lower=100000\n",
        "high=800000\n",
        "\n",
        "missing_num1=accepted.isnull().sum()\n",
        "\n",
        "features_to_drop=missing_num1[(missing_num1>=lower)& (missing_num1<=high)].index\n",
        "accepted=accepted.drop(columns=features_to_drop)\n",
        "\n",
        "print(\"Dropped Features:\" , features_to_drop)"
      ],
      "metadata": {
        "execution": {
          "iopub.status.busy": "2024-11-01T12:05:45.849021Z",
          "iopub.execute_input": "2024-11-01T12:05:45.849378Z",
          "iopub.status.idle": "2024-11-01T12:05:51.820487Z",
          "shell.execute_reply.started": "2024-11-01T12:05:45.849332Z",
          "shell.execute_reply": "2024-11-01T12:05:51.819479Z"
        },
        "trusted": true,
        "id": "d1br9sq7MDj2"
      },
      "execution_count": null,
      "outputs": []
    },
    {
      "cell_type": "code",
      "source": [
        "accepted"
      ],
      "metadata": {
        "execution": {
          "iopub.status.busy": "2024-11-01T12:05:51.82186Z",
          "iopub.execute_input": "2024-11-01T12:05:51.822218Z",
          "iopub.status.idle": "2024-11-01T12:05:53.000784Z",
          "shell.execute_reply.started": "2024-11-01T12:05:51.822183Z",
          "shell.execute_reply": "2024-11-01T12:05:52.999711Z"
        },
        "trusted": true,
        "id": "3SW7drUQMDj2"
      },
      "execution_count": null,
      "outputs": []
    },
    {
      "cell_type": "code",
      "source": [
        "accepted.columns"
      ],
      "metadata": {
        "execution": {
          "iopub.status.busy": "2024-11-01T12:05:53.002001Z",
          "iopub.execute_input": "2024-11-01T12:05:53.00234Z",
          "iopub.status.idle": "2024-11-01T12:05:53.009894Z",
          "shell.execute_reply.started": "2024-11-01T12:05:53.002306Z",
          "shell.execute_reply": "2024-11-01T12:05:53.00874Z"
        },
        "trusted": true,
        "id": "Y3wntnYRMDj2"
      },
      "execution_count": null,
      "outputs": []
    },
    {
      "cell_type": "code",
      "source": [
        "accepted['debt_settlement_flag'].unique()"
      ],
      "metadata": {
        "execution": {
          "iopub.status.busy": "2024-11-01T12:05:53.011573Z",
          "iopub.execute_input": "2024-11-01T12:05:53.012377Z",
          "iopub.status.idle": "2024-11-01T12:05:53.160325Z",
          "shell.execute_reply.started": "2024-11-01T12:05:53.012329Z",
          "shell.execute_reply": "2024-11-01T12:05:53.159476Z"
        },
        "trusted": true,
        "id": "owNpbkyAMDj2"
      },
      "execution_count": null,
      "outputs": []
    },
    {
      "cell_type": "code",
      "source": [
        "accepted['title'].nunique()"
      ],
      "metadata": {
        "execution": {
          "iopub.status.busy": "2024-11-01T12:05:53.161429Z",
          "iopub.execute_input": "2024-11-01T12:05:53.161756Z",
          "iopub.status.idle": "2024-11-01T12:05:53.34874Z",
          "shell.execute_reply.started": "2024-11-01T12:05:53.161711Z",
          "shell.execute_reply": "2024-11-01T12:05:53.34735Z"
        },
        "trusted": true,
        "id": "XShVjHAqMDj3"
      },
      "execution_count": null,
      "outputs": []
    },
    {
      "cell_type": "code",
      "source": [
        "#NO=0, YES=1\n",
        "from sklearn.preprocessing import LabelEncoder\n",
        "\n",
        "label_encoder=LabelEncoder()\n",
        "accepted['Label']=label_encoder.fit_transform(accepted['debt_settlement_flag'])\n",
        "accepted"
      ],
      "metadata": {
        "execution": {
          "iopub.status.busy": "2024-11-01T12:05:53.350442Z",
          "iopub.execute_input": "2024-11-01T12:05:53.350784Z",
          "iopub.status.idle": "2024-11-01T12:05:55.995346Z",
          "shell.execute_reply.started": "2024-11-01T12:05:53.350749Z",
          "shell.execute_reply": "2024-11-01T12:05:55.994349Z"
        },
        "trusted": true,
        "id": "TaWRinJTMDj3"
      },
      "execution_count": null,
      "outputs": []
    },
    {
      "cell_type": "code",
      "source": [
        "accepted.columns"
      ],
      "metadata": {
        "execution": {
          "iopub.status.busy": "2024-11-01T12:05:55.996833Z",
          "iopub.execute_input": "2024-11-01T12:05:55.997986Z",
          "iopub.status.idle": "2024-11-01T12:05:56.005671Z",
          "shell.execute_reply.started": "2024-11-01T12:05:55.997936Z",
          "shell.execute_reply": "2024-11-01T12:05:56.004769Z"
        },
        "trusted": true,
        "id": "DAEA2PZSMDj3"
      },
      "execution_count": null,
      "outputs": []
    },
    {
      "cell_type": "code",
      "source": [
        "import pandas as pd\n",
        "import lightgbm as lgb\n",
        "import matplotlib.pyplot as plt\n",
        "from sklearn.model_selection import train_test_split\n",
        "from sklearn.preprocessing import LabelEncoder\n",
        "from sklearn.metrics import accuracy_score, classification_report, confusion_matrix\n",
        "\n",
        "# Load the dataset\n",
        "df = accepted\n",
        "\n",
        "# Identify categorical columns\n",
        "categorical_columns = df.select_dtypes(include=['object']).columns.tolist()\n",
        "\n",
        "# Initialize LabelEncoder for each categorical column\n",
        "label_encoders = {}\n",
        "for col in categorical_columns:\n",
        "    df[col] = df[col].astype(str)  # Ensure all entries are strings to avoid mixed types\n",
        "    le = LabelEncoder()\n",
        "    df[col] = le.fit_transform(df[col])\n",
        "    label_encoders[col] = le\n",
        "\n",
        "# Split into features and target\n",
        "X = df.drop('Label', axis=1)  # Replace 'Label' with your target column if named differently\n",
        "y = df['Label']\n",
        "\n",
        "# Split the dataset into training and testing sets\n",
        "X_train, X_test, y_train, y_test = train_test_split(X, y, test_size=0.2, random_state=42)\n",
        "\n",
        "# Initialize LGBMClassifier with parameters\n",
        "model = lgb.LGBMClassifier(\n",
        "    objective='binary',  # Change to 'multiclass' if you have multiple classes\n",
        "    metric='binary_logloss',\n",
        "    random_state=42\n",
        ")\n",
        "\n",
        "# Train the model\n",
        "model.fit(X_train, y_train)\n",
        "\n",
        "# Predictions and evaluation\n",
        "y_pred = model.predict(X_test)\n",
        "accuracy = accuracy_score(y_test, y_pred)\n",
        "print(\"Accuracy:\", accuracy)\n",
        "print(\"Classification Report:\\n\", classification_report(y_test, y_pred))\n",
        "print(\"Confusion Matrix:\\n\", confusion_matrix(y_test, y_pred))\n",
        "\n",
        "# Feature importance\n",
        "importance = model.feature_importances_\n",
        "importance_df = pd.DataFrame({'Feature': X.columns, 'Importance': importance}).sort_values(by='Importance', ascending=False)"
      ],
      "metadata": {
        "execution": {
          "iopub.status.busy": "2024-11-01T12:05:56.00683Z",
          "iopub.execute_input": "2024-11-01T12:05:56.00714Z",
          "iopub.status.idle": "2024-11-01T12:07:18.530412Z",
          "shell.execute_reply.started": "2024-11-01T12:05:56.007094Z",
          "shell.execute_reply": "2024-11-01T12:07:18.529302Z"
        },
        "trusted": true,
        "id": "QEUu6C_5MDj3"
      },
      "execution_count": null,
      "outputs": []
    },
    {
      "cell_type": "code",
      "source": [
        "# Plot feature importance\n",
        "plt.figure(figsize=(16, 20))\n",
        "plt.barh(importance_df['Feature'], importance_df['Importance'], color='skyblue')\n",
        "plt.xlabel('Importance')\n",
        "plt.ylabel('Feature')\n",
        "plt.title('Feature Importance from LGBMClassifier')\n",
        "plt.gca().invert_yaxis()\n",
        "plt.show()"
      ],
      "metadata": {
        "execution": {
          "iopub.status.busy": "2024-11-01T12:07:18.53181Z",
          "iopub.execute_input": "2024-11-01T12:07:18.532614Z",
          "iopub.status.idle": "2024-11-01T12:07:19.773742Z",
          "shell.execute_reply.started": "2024-11-01T12:07:18.532577Z",
          "shell.execute_reply": "2024-11-01T12:07:19.77274Z"
        },
        "trusted": true,
        "id": "XuWZqnlBMDj4"
      },
      "execution_count": null,
      "outputs": []
    },
    {
      "cell_type": "code",
      "source": [
        "drop_yes = importance_df[importance_df['Importance'] <= 5].index\n",
        "importance_df = importance_df.drop(drop_yes)\n",
        "print(importance_df)"
      ],
      "metadata": {
        "execution": {
          "iopub.status.busy": "2024-11-01T12:07:19.775016Z",
          "iopub.execute_input": "2024-11-01T12:07:19.775381Z",
          "iopub.status.idle": "2024-11-01T12:07:19.785065Z",
          "shell.execute_reply.started": "2024-11-01T12:07:19.775345Z",
          "shell.execute_reply": "2024-11-01T12:07:19.784141Z"
        },
        "trusted": true,
        "id": "1qnKG-29MDj4"
      },
      "execution_count": null,
      "outputs": []
    },
    {
      "cell_type": "code",
      "source": [
        "importance_df['Feature'].tolist()"
      ],
      "metadata": {
        "execution": {
          "iopub.status.busy": "2024-11-01T12:07:19.786297Z",
          "iopub.execute_input": "2024-11-01T12:07:19.786735Z",
          "iopub.status.idle": "2024-11-01T12:07:19.804388Z",
          "shell.execute_reply.started": "2024-11-01T12:07:19.786701Z",
          "shell.execute_reply": "2024-11-01T12:07:19.803543Z"
        },
        "trusted": true,
        "id": "g4g-LiP8MDj4"
      },
      "execution_count": null,
      "outputs": []
    },
    {
      "cell_type": "code",
      "source": [
        "features_to_keep = importance_df['Feature'].tolist()\n",
        "additional_feature = 'Label'\n",
        "\n",
        "if additional_feature not in features_to_keep:\n",
        "    features_to_keep.append(additional_feature)\n",
        "\n",
        "\n",
        "filtered_df = accepted[features_to_keep]\n",
        "filtered_df"
      ],
      "metadata": {
        "execution": {
          "iopub.status.busy": "2024-11-01T12:07:19.805491Z",
          "iopub.execute_input": "2024-11-01T12:07:19.805782Z",
          "iopub.status.idle": "2024-11-01T12:07:19.955882Z",
          "shell.execute_reply.started": "2024-11-01T12:07:19.805752Z",
          "shell.execute_reply": "2024-11-01T12:07:19.954888Z"
        },
        "trusted": true,
        "id": "fcq0iwlDMDj4"
      },
      "execution_count": null,
      "outputs": []
    },
    {
      "cell_type": "code",
      "source": [
        "filtered_df.isna().sum()"
      ],
      "metadata": {
        "execution": {
          "iopub.status.busy": "2024-11-01T12:07:19.957043Z",
          "iopub.execute_input": "2024-11-01T12:07:19.957368Z",
          "iopub.status.idle": "2024-11-01T12:07:20.013843Z",
          "shell.execute_reply.started": "2024-11-01T12:07:19.957335Z",
          "shell.execute_reply": "2024-11-01T12:07:20.012811Z"
        },
        "trusted": true,
        "id": "YZhpL285MDj5"
      },
      "execution_count": null,
      "outputs": []
    },
    {
      "cell_type": "code",
      "source": [
        "columns_to_fill = ['dti', 'mths_since_recent_bc', 'mths_since_rcnt_il', 'il_util']\n",
        "\n",
        "for column in columns_to_fill:\n",
        "    filtered_df[column].fillna(filtered_df[column].mean(), inplace=True)\n",
        "\n",
        "# Verify that missing values have been filled\n",
        "print(filtered_df[columns_to_fill].isnull().sum())"
      ],
      "metadata": {
        "execution": {
          "iopub.status.busy": "2024-11-01T12:07:20.01522Z",
          "iopub.execute_input": "2024-11-01T12:07:20.015662Z",
          "iopub.status.idle": "2024-11-01T12:07:20.120791Z",
          "shell.execute_reply.started": "2024-11-01T12:07:20.015613Z",
          "shell.execute_reply": "2024-11-01T12:07:20.119773Z"
        },
        "trusted": true,
        "id": "aaZYRwiHMDj5"
      },
      "execution_count": null,
      "outputs": []
    },
    {
      "cell_type": "code",
      "source": [
        "filtered_df.dropna(inplace=True)"
      ],
      "metadata": {
        "execution": {
          "iopub.status.busy": "2024-11-01T12:07:20.122262Z",
          "iopub.execute_input": "2024-11-01T12:07:20.122954Z",
          "iopub.status.idle": "2024-11-01T12:07:20.351482Z",
          "shell.execute_reply.started": "2024-11-01T12:07:20.122906Z",
          "shell.execute_reply": "2024-11-01T12:07:20.350505Z"
        },
        "trusted": true,
        "id": "zG7dLluKMDj5"
      },
      "execution_count": null,
      "outputs": []
    },
    {
      "cell_type": "code",
      "source": [
        "filtered_df['Label'].value_counts()"
      ],
      "metadata": {
        "execution": {
          "iopub.status.busy": "2024-11-01T12:07:20.35257Z",
          "iopub.execute_input": "2024-11-01T12:07:20.352852Z",
          "iopub.status.idle": "2024-11-01T12:07:20.379545Z",
          "shell.execute_reply.started": "2024-11-01T12:07:20.352822Z",
          "shell.execute_reply": "2024-11-01T12:07:20.378522Z"
        },
        "trusted": true,
        "id": "SO2xLhQuMDj5"
      },
      "execution_count": null,
      "outputs": []
    },
    {
      "cell_type": "markdown",
      "source": [
        "# Correlations"
      ],
      "metadata": {
        "id": "ZoSbKR27MDj5"
      }
    },
    {
      "cell_type": "code",
      "source": [
        "import pandas as pd\n",
        "import seaborn as sns\n",
        "import matplotlib.pyplot as plt\n",
        "\n",
        "df = filtered_df  # Replace with your actual DataFrame\n",
        "correlation_matrix = df.corr()\n",
        "plt.figure(figsize=(12, 10))\n",
        "sns.heatmap(correlation_matrix, annot=True, fmt=\".2f\", cmap='coolwarm', square=True, cbar_kws={\"shrink\": .8}, linewidths=.5)\n",
        "plt.title('Feature Correlation Heatmap')\n",
        "plt.show()"
      ],
      "metadata": {
        "execution": {
          "iopub.status.busy": "2024-11-01T12:07:20.381028Z",
          "iopub.execute_input": "2024-11-01T12:07:20.381768Z",
          "iopub.status.idle": "2024-11-01T12:07:23.476943Z",
          "shell.execute_reply.started": "2024-11-01T12:07:20.381722Z",
          "shell.execute_reply": "2024-11-01T12:07:23.475943Z"
        },
        "trusted": true,
        "id": "ebYgMEjnMDj6"
      },
      "execution_count": null,
      "outputs": []
    },
    {
      "cell_type": "code",
      "source": [
        "filtered_df = filtered_df.drop(columns=['debt_settlement_flag', 'loan_amnt'], errors='ignore')\n",
        "filtered_df"
      ],
      "metadata": {
        "execution": {
          "iopub.status.busy": "2024-11-01T12:07:23.48445Z",
          "iopub.execute_input": "2024-11-01T12:07:23.485764Z",
          "iopub.status.idle": "2024-11-01T12:07:23.604692Z",
          "shell.execute_reply.started": "2024-11-01T12:07:23.48571Z",
          "shell.execute_reply": "2024-11-01T12:07:23.603691Z"
        },
        "trusted": true,
        "id": "AqwatUbNMDj6"
      },
      "execution_count": null,
      "outputs": []
    },
    {
      "cell_type": "markdown",
      "source": [
        "# Balance Dataset"
      ],
      "metadata": {
        "id": "E-lBQMrmMDj6"
      }
    },
    {
      "cell_type": "code",
      "source": [
        "from sklearn.utils import resample\n",
        "\n",
        "# Separate majority and minority classes\n",
        "majority_class = filtered_df[filtered_df['Label'] == 0]\n",
        "minority_class = filtered_df[filtered_df['Label'] == 1]"
      ],
      "metadata": {
        "execution": {
          "iopub.status.busy": "2024-11-01T12:07:23.605925Z",
          "iopub.execute_input": "2024-11-01T12:07:23.606425Z",
          "iopub.status.idle": "2024-11-01T12:07:23.74164Z",
          "shell.execute_reply.started": "2024-11-01T12:07:23.606389Z",
          "shell.execute_reply": "2024-11-01T12:07:23.740773Z"
        },
        "trusted": true,
        "id": "9NWMZc1nMDj7"
      },
      "execution_count": null,
      "outputs": []
    },
    {
      "cell_type": "code",
      "source": [
        "minority_upsampled = resample(minority_class,\n",
        "                              replace=True,       # Sample with replacement\n",
        "                              n_samples=len(majority_class),  # Match majority class count\n",
        "                              random_state=42)   # For reproducibility\n",
        "\n",
        "# Combine majority class with upsampled minority class\n",
        "balanced_df = pd.concat([majority_class, minority_upsampled])\n",
        "\n",
        "# Shuffle the new balanced dataset\n",
        "balanced_df = balanced_df.sample(frac=1, random_state=42).reset_index(drop=True)"
      ],
      "metadata": {
        "execution": {
          "iopub.status.busy": "2024-11-01T12:07:23.74311Z",
          "iopub.execute_input": "2024-11-01T12:07:23.743542Z",
          "iopub.status.idle": "2024-11-01T12:07:25.633101Z",
          "shell.execute_reply.started": "2024-11-01T12:07:23.743485Z",
          "shell.execute_reply": "2024-11-01T12:07:25.632101Z"
        },
        "trusted": true,
        "id": "45HjSQl7MDj7"
      },
      "execution_count": null,
      "outputs": []
    },
    {
      "cell_type": "code",
      "source": [
        "balanced_df['Label'].value_counts()"
      ],
      "metadata": {
        "execution": {
          "iopub.status.busy": "2024-11-01T12:07:25.634468Z",
          "iopub.execute_input": "2024-11-01T12:07:25.634824Z",
          "iopub.status.idle": "2024-11-01T12:07:25.684168Z",
          "shell.execute_reply.started": "2024-11-01T12:07:25.634787Z",
          "shell.execute_reply": "2024-11-01T12:07:25.683139Z"
        },
        "trusted": true,
        "id": "3nPNm6glMDj7"
      },
      "execution_count": null,
      "outputs": []
    },
    {
      "cell_type": "code",
      "source": [
        "filtered_df=balanced_df"
      ],
      "metadata": {
        "execution": {
          "iopub.status.busy": "2024-11-01T12:07:25.685474Z",
          "iopub.execute_input": "2024-11-01T12:07:25.685824Z",
          "iopub.status.idle": "2024-11-01T12:07:25.696677Z",
          "shell.execute_reply.started": "2024-11-01T12:07:25.685786Z",
          "shell.execute_reply": "2024-11-01T12:07:25.695717Z"
        },
        "trusted": true,
        "id": "wP3miyaOMDj7"
      },
      "execution_count": null,
      "outputs": []
    },
    {
      "cell_type": "code",
      "source": [
        "filtered_df['Label'].value_counts()"
      ],
      "metadata": {
        "execution": {
          "iopub.status.busy": "2024-11-01T12:07:25.697754Z",
          "iopub.execute_input": "2024-11-01T12:07:25.698042Z",
          "iopub.status.idle": "2024-11-01T12:07:25.744801Z",
          "shell.execute_reply.started": "2024-11-01T12:07:25.69801Z",
          "shell.execute_reply": "2024-11-01T12:07:25.743868Z"
        },
        "trusted": true,
        "id": "WIWqs_bQMDj8"
      },
      "execution_count": null,
      "outputs": []
    },
    {
      "cell_type": "code",
      "source": [
        "X =filtered_df.drop('Label', axis=1)\n",
        "y =filtered_df['Label']"
      ],
      "metadata": {
        "execution": {
          "iopub.status.busy": "2024-11-01T12:07:25.745949Z",
          "iopub.execute_input": "2024-11-01T12:07:25.746355Z",
          "iopub.status.idle": "2024-11-01T12:07:25.918475Z",
          "shell.execute_reply.started": "2024-11-01T12:07:25.74632Z",
          "shell.execute_reply": "2024-11-01T12:07:25.917633Z"
        },
        "trusted": true,
        "id": "6eB3IeDqMDkF"
      },
      "execution_count": null,
      "outputs": []
    },
    {
      "cell_type": "code",
      "source": [
        "from sklearn.model_selection import train_test_split\n",
        "\n",
        "X_train, X_temp, y_train, y_temp = train_test_split(X, y, test_size=0.3, random_state=42)\n",
        "X_val, X_test, y_val, y_test = train_test_split(X_temp, y_temp, test_size=0.5, random_state=42)"
      ],
      "metadata": {
        "execution": {
          "iopub.status.busy": "2024-11-01T12:07:25.919589Z",
          "iopub.execute_input": "2024-11-01T12:07:25.919905Z",
          "iopub.status.idle": "2024-11-01T12:07:27.090681Z",
          "shell.execute_reply.started": "2024-11-01T12:07:25.919872Z",
          "shell.execute_reply": "2024-11-01T12:07:27.089777Z"
        },
        "trusted": true,
        "id": "jaOa4NqUMDkG"
      },
      "execution_count": null,
      "outputs": []
    },
    {
      "cell_type": "code",
      "source": [
        "from sklearn.preprocessing import StandardScaler\n",
        "\n",
        "scaler = StandardScaler()\n",
        "X_train = scaler.fit_transform(X_train)\n",
        "X_test = scaler.transform(X_test)\n",
        "X_val=scaler.transform(X_val)"
      ],
      "metadata": {
        "execution": {
          "iopub.status.busy": "2024-11-01T12:07:27.092222Z",
          "iopub.execute_input": "2024-11-01T12:07:27.092928Z",
          "iopub.status.idle": "2024-11-01T12:07:28.050118Z",
          "shell.execute_reply.started": "2024-11-01T12:07:27.09288Z",
          "shell.execute_reply": "2024-11-01T12:07:28.049293Z"
        },
        "trusted": true,
        "id": "Mi8SQzsLMDkG"
      },
      "execution_count": null,
      "outputs": []
    },
    {
      "cell_type": "markdown",
      "source": [
        "# Logistic Regression"
      ],
      "metadata": {
        "id": "aGkFu7xdMDkG"
      }
    },
    {
      "cell_type": "code",
      "source": [
        "from sklearn.linear_model import LogisticRegression\n",
        "from sklearn.metrics import accuracy_score, classification_report\n",
        "\n",
        "lg = LogisticRegression(C=0.01, random_state=42)\n",
        "lg.fit(X_train, y_train)\n",
        "lg_predictions = lg.predict(X_test)\n",
        "\n",
        "# Evaluate the model\n",
        "print(\"Logistic Regression Accuracy:\", accuracy_score(y_test, lg_predictions))\n",
        "print(classification_report(y_test, lg_predictions))"
      ],
      "metadata": {
        "execution": {
          "iopub.status.busy": "2024-11-01T12:07:28.051467Z",
          "iopub.execute_input": "2024-11-01T12:07:28.051791Z",
          "iopub.status.idle": "2024-11-01T12:07:35.762921Z",
          "shell.execute_reply.started": "2024-11-01T12:07:28.051758Z",
          "shell.execute_reply": "2024-11-01T12:07:35.761623Z"
        },
        "trusted": true,
        "id": "2-bU64WxMDkH"
      },
      "execution_count": null,
      "outputs": []
    },
    {
      "cell_type": "code",
      "source": [
        "y_val_pred = lg.predict(X_val)\n",
        "print(f\"Validation Accuracy: {accuracy_score(y_val, y_val_pred)}\")\n",
        "print(classification_report(y_val, y_val_pred))"
      ],
      "metadata": {
        "execution": {
          "iopub.status.busy": "2024-11-01T12:07:35.764477Z",
          "iopub.execute_input": "2024-11-01T12:07:35.765023Z",
          "iopub.status.idle": "2024-11-01T12:07:36.118727Z",
          "shell.execute_reply.started": "2024-11-01T12:07:35.764965Z",
          "shell.execute_reply": "2024-11-01T12:07:36.117735Z"
        },
        "trusted": true,
        "id": "gz89_EDbMDkH"
      },
      "execution_count": null,
      "outputs": []
    },
    {
      "cell_type": "code",
      "source": [
        "from sklearn.model_selection import train_test_split, cross_val_score, KFold\n",
        "from sklearn.metrics import accuracy_score, mean_squared_error\n",
        "\n",
        "# Calculate training error\n",
        "y_train_pred = lg.predict(X_train)\n",
        "train_mse = mean_squared_error(y_train, y_train_pred)\n",
        "print(\"Training MSE (Bias):\", train_mse)\n",
        "\n",
        "# Calculate validation error\n",
        "y_test_pred =lg.predict(X_test)\n",
        "test_mse = mean_squared_error(y_test, y_test_pred)\n",
        "print(\"Validation MSE (Variance):\", test_mse)"
      ],
      "metadata": {
        "execution": {
          "iopub.status.busy": "2024-11-01T12:07:36.120003Z",
          "iopub.execute_input": "2024-11-01T12:07:36.120329Z",
          "iopub.status.idle": "2024-11-01T12:07:36.245272Z",
          "shell.execute_reply.started": "2024-11-01T12:07:36.120296Z",
          "shell.execute_reply": "2024-11-01T12:07:36.243613Z"
        },
        "trusted": true,
        "id": "sh08PzLaMDkI"
      },
      "execution_count": null,
      "outputs": []
    },
    {
      "cell_type": "markdown",
      "source": [
        "A training MSE of 0.0 suggests that the model perfectly fits the training data, indicating no bias. However, a validation MSE of 0.0 as well implies the model also perfectly fits the test data, which is unusual and may indicate data leakage or an overly simplistic dataset, as perfect predictions are rare in real-world scenarios."
      ],
      "metadata": {
        "id": "wHwlBbJAMDkI"
      }
    },
    {
      "cell_type": "code",
      "source": [
        "from sklearn.metrics import confusion_matrix\n",
        "import seaborn as sns\n",
        "\n",
        "cm_lg = confusion_matrix(y_test, lg_predictions)\n",
        "\n",
        "# Plot the confusion matrix\n",
        "plt.figure(figsize=(8, 6))\n",
        "sns.heatmap(cm_lg, annot=True, fmt=\"d\", cmap=\"Blues\", cbar=False)\n",
        "plt.xlabel(\"Predicted Label\")\n",
        "plt.ylabel(\"True Label\")\n",
        "plt.title(\"Confusion Matrix\")\n",
        "plt.show()"
      ],
      "metadata": {
        "execution": {
          "iopub.status.busy": "2024-11-01T12:07:36.247542Z",
          "iopub.execute_input": "2024-11-01T12:07:36.248536Z",
          "iopub.status.idle": "2024-11-01T12:07:36.497251Z",
          "shell.execute_reply.started": "2024-11-01T12:07:36.248439Z",
          "shell.execute_reply": "2024-11-01T12:07:36.496216Z"
        },
        "trusted": true,
        "id": "qjnsVxB5MDkJ"
      },
      "execution_count": null,
      "outputs": []
    },
    {
      "cell_type": "markdown",
      "source": [
        "# Cross Validation"
      ],
      "metadata": {
        "id": "nUE31yLqMDkJ"
      }
    },
    {
      "cell_type": "code",
      "source": [
        "# Set up k-fold cross-validation with 10 folds\n",
        "kfold = KFold(n_splits=10, shuffle=True, random_state=42)\n",
        "\n",
        "# Initialize the model\n",
        "model = LogisticRegression(random_state=42)\n",
        "\n",
        "# Perform cross-validation\n",
        "cv_scores = cross_val_score(model, X, y, cv=kfold, scoring='accuracy')\n",
        "\n",
        "# Output the results\n",
        "print(\"Cross-Validation Accuracy Scores:\", cv_scores)\n",
        "print(\"Mean Cross-Validation Accuracy:\", np.mean(cv_scores))\n",
        "print(\"Standard Deviation of Cross-Validation Accuracy:\", np.std(cv_scores))"
      ],
      "metadata": {
        "execution": {
          "iopub.status.busy": "2024-11-01T12:07:36.498396Z",
          "iopub.execute_input": "2024-11-01T12:07:36.49874Z",
          "iopub.status.idle": "2024-11-01T12:15:45.903558Z",
          "shell.execute_reply.started": "2024-11-01T12:07:36.498695Z",
          "shell.execute_reply": "2024-11-01T12:15:45.902219Z"
        },
        "trusted": true,
        "id": "aegvTWFKMDkK"
      },
      "execution_count": null,
      "outputs": []
    },
    {
      "cell_type": "markdown",
      "source": [
        "The cross-validation accuracy scores are very high, with a mean of approximately 98.45%, indicating that the model consistently performs well across different folds. The low standard deviation of around 0.00033 suggests minimal variance, meaning the model is stable and performs reliably across various subsets of the data without overfitting or high sensitivity to data splits."
      ],
      "metadata": {
        "id": "d3FGSb4OMDkK"
      }
    },
    {
      "cell_type": "markdown",
      "source": [
        "# Random Forest"
      ],
      "metadata": {
        "id": "rm2ASlQ7MDkK"
      }
    },
    {
      "cell_type": "code",
      "source": [
        "from sklearn.ensemble import RandomForestClassifier\n",
        "\n",
        "\n",
        "rf = RandomForestClassifier(n_estimators=100, random_state=42)\n",
        "rf.fit(X_train, y_train)\n",
        "rf_predictions = rf.predict(X_test)\n",
        "print(\"Random Forest Accuracy:\", accuracy_score(y_test, rf_predictions))\n",
        "print(classification_report(y_test, rf_predictions))"
      ],
      "metadata": {
        "execution": {
          "iopub.status.busy": "2024-11-01T12:15:45.905649Z",
          "iopub.execute_input": "2024-11-01T12:15:45.906438Z",
          "iopub.status.idle": "2024-11-01T12:34:10.940633Z",
          "shell.execute_reply.started": "2024-11-01T12:15:45.90638Z",
          "shell.execute_reply": "2024-11-01T12:34:10.939587Z"
        },
        "trusted": true,
        "id": "6P9r-1BVMDkK"
      },
      "execution_count": null,
      "outputs": []
    },
    {
      "cell_type": "code",
      "source": [
        "cm_rf = confusion_matrix(y_test, rf_predictions)\n",
        "\n",
        "# Plot the confusion matrix\n",
        "plt.figure(figsize=(8, 6))\n",
        "sns.heatmap(cm_rf, annot=True, fmt=\"d\", cmap=\"Blues\", cbar=False)\n",
        "plt.xlabel(\"Predicted Label\")\n",
        "plt.ylabel(\"True Label\")\n",
        "plt.title(\"Confusion Matrix\")\n",
        "plt.show()"
      ],
      "metadata": {
        "execution": {
          "iopub.status.busy": "2024-11-01T12:34:10.942102Z",
          "iopub.execute_input": "2024-11-01T12:34:10.942908Z",
          "iopub.status.idle": "2024-11-01T12:34:11.133438Z",
          "shell.execute_reply.started": "2024-11-01T12:34:10.942855Z",
          "shell.execute_reply": "2024-11-01T12:34:11.132308Z"
        },
        "trusted": true,
        "id": "PGx6qQrpMDkL"
      },
      "execution_count": null,
      "outputs": []
    },
    {
      "cell_type": "markdown",
      "source": [
        "# XGBoost"
      ],
      "metadata": {
        "id": "26gX1ygiMDkL"
      }
    },
    {
      "cell_type": "code",
      "source": [
        "import xgboost as xgb\n",
        "\n",
        "xgb_model = xgb.XGBClassifier(use_label_encoder=False, eval_metric='mlogloss')\n",
        "xgb_model.fit(X_train, y_train)\n",
        "xgb_predictions = xgb_model.predict(X_test)\n",
        "print(\"XGBoost Accuracy:\", accuracy_score(y_test, xgb_predictions))\n",
        "print(classification_report(y_test, xgb_predictions))"
      ],
      "metadata": {
        "execution": {
          "iopub.status.busy": "2024-11-01T12:34:11.134726Z",
          "iopub.execute_input": "2024-11-01T12:34:11.135035Z",
          "iopub.status.idle": "2024-11-01T12:34:32.18497Z",
          "shell.execute_reply.started": "2024-11-01T12:34:11.135002Z",
          "shell.execute_reply": "2024-11-01T12:34:32.183906Z"
        },
        "trusted": true,
        "id": "E8TkOUKgMDkM"
      },
      "execution_count": null,
      "outputs": []
    },
    {
      "cell_type": "code",
      "source": [
        "cm_xgb = confusion_matrix(y_test, xgb_predictions)\n",
        "\n",
        "# Plot the confusion matrix\n",
        "plt.figure(figsize=(8, 6))\n",
        "sns.heatmap(cm_xgb, annot=True, fmt=\"d\", cmap=\"Blues\", cbar=False)\n",
        "plt.xlabel(\"Predicted Label\")\n",
        "plt.ylabel(\"True Label\")\n",
        "plt.title(\"Confusion Matrix\")\n",
        "plt.show()"
      ],
      "metadata": {
        "execution": {
          "iopub.status.busy": "2024-11-01T12:34:32.186642Z",
          "iopub.execute_input": "2024-11-01T12:34:32.187057Z",
          "iopub.status.idle": "2024-11-01T12:34:32.393704Z",
          "shell.execute_reply.started": "2024-11-01T12:34:32.18701Z",
          "shell.execute_reply": "2024-11-01T12:34:32.392676Z"
        },
        "trusted": true,
        "id": "285Dyl0EMDkM"
      },
      "execution_count": null,
      "outputs": []
    }
  ]
}